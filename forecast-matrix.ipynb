{
 "cells": [
  {
   "cell_type": "markdown",
   "id": "3f09a1dd",
   "metadata": {
    "papermill": {
     "duration": 0.006792,
     "end_time": "2024-10-13T17:13:51.099033",
     "exception": false,
     "start_time": "2024-10-13T17:13:51.092241",
     "status": "completed"
    },
    "tags": []
   },
   "source": [
    "**<h1 style=\"color : red;\">Who are you? and why are you here?!</h1>**\n",
    "👨🏻‍💻🔫🐙"
   ]
  },
  {
   "cell_type": "markdown",
   "id": "6ddedaaa",
   "metadata": {
    "execution": {
     "iopub.execute_input": "2024-10-13T14:32:36.771164Z",
     "iopub.status.busy": "2024-10-13T14:32:36.770339Z",
     "iopub.status.idle": "2024-10-13T14:32:36.789675Z",
     "shell.execute_reply": "2024-10-13T14:32:36.788236Z",
     "shell.execute_reply.started": "2024-10-13T14:32:36.771119Z"
    },
    "papermill": {
     "duration": 0.005486,
     "end_time": "2024-10-13T17:13:51.110263",
     "exception": false,
     "start_time": "2024-10-13T17:13:51.104777",
     "status": "completed"
    },
    "tags": []
   },
   "source": [
    "In an unexpected turn of events, you've been enlisted as the chief **\"Weather Whisperer\"** for the elite **Umbrella Society Summit** set to take place in the fickle climate of **Binghamton, NY**. Your role? To scrape not just any data, but the lifeblood of their entire event—real-time weather insights from this page. The summit’s success hinges on your ability to extract current conditions (humidity, wind speed, temperature—everything down to the UV index), the ever-changing **7-day forecast**, and the detailed table of meteorological minutiae like dew points, visibility, and precipitation probabilities. Yes, even the chance of a rogue sunbeam must be documented!\n",
    "\n",
    "Your weather-hungry clientele demands perfection. You will scrape the **current conditions** section, where the fate of their outdoor meetings lies. Then, delve into the **forecast table** that dictates whether sunglasses or umbrellas will dominate the day. Lastly, gather all the juicy **details from the in-depth weather table** (hourly temperatures, wind patterns, and those ever-so-important rain chances). Their tea parties and pontifications about cloud formations rest on your data scraping prowess. So, will you rise to the challenge and save the summit, or will their umbrellas be left **high** and **dry**?"
   ]
  },
  {
   "cell_type": "markdown",
   "id": "0a3ddf73",
   "metadata": {
    "_cell_guid": "b1076dfc-b9ad-4769-8c92-a6c4dae69d19",
    "_uuid": "8f2839f25d086af736a60e9eeb907d3b93b6e0e5",
    "execution": {
     "iopub.execute_input": "2024-10-13T07:22:15.507459Z",
     "iopub.status.busy": "2024-10-13T07:22:15.506901Z",
     "iopub.status.idle": "2024-10-13T07:22:15.516794Z",
     "shell.execute_reply": "2024-10-13T07:22:15.515247Z",
     "shell.execute_reply.started": "2024-10-13T07:22:15.507406Z"
    },
    "papermill": {
     "duration": 0.005356,
     "end_time": "2024-10-13T17:13:51.121364",
     "exception": false,
     "start_time": "2024-10-13T17:13:51.116008",
     "status": "completed"
    },
    "tags": []
   },
   "source": [
    "**<h3 style=\"color : blue;\">Let's import all the essentials!🌸🐼</h1>**"
   ]
  },
  {
   "cell_type": "code",
   "execution_count": 1,
   "id": "e4ebe6c3",
   "metadata": {
    "execution": {
     "iopub.execute_input": "2024-10-13T17:13:51.134784Z",
     "iopub.status.busy": "2024-10-13T17:13:51.134200Z",
     "iopub.status.idle": "2024-10-13T17:13:52.462307Z",
     "shell.execute_reply": "2024-10-13T17:13:52.460631Z"
    },
    "papermill": {
     "duration": 1.338552,
     "end_time": "2024-10-13T17:13:52.465478",
     "exception": false,
     "start_time": "2024-10-13T17:13:51.126926",
     "status": "completed"
    },
    "tags": []
   },
   "outputs": [],
   "source": [
    "from bs4 import BeautifulSoup\n",
    "import requests\n",
    "import numpy as np\n",
    "import pandas as pd"
   ]
  },
  {
   "cell_type": "markdown",
   "id": "d181fcdb",
   "metadata": {
    "papermill": {
     "duration": 0.0054,
     "end_time": "2024-10-13T17:13:52.477229",
     "exception": false,
     "start_time": "2024-10-13T17:13:52.471829",
     "status": "completed"
    },
    "tags": []
   },
   "source": [
    "**<h3 style=\"color : blue;\">Fetching the webpage and creating Soup!✅</h1>**"
   ]
  },
  {
   "cell_type": "code",
   "execution_count": 2,
   "id": "62890af6",
   "metadata": {
    "_kg_hide-output": true,
    "execution": {
     "iopub.execute_input": "2024-10-13T17:13:52.491058Z",
     "iopub.status.busy": "2024-10-13T17:13:52.490447Z",
     "iopub.status.idle": "2024-10-13T17:13:53.039790Z",
     "shell.execute_reply": "2024-10-13T17:13:53.038471Z"
    },
    "papermill": {
     "duration": 0.559984,
     "end_time": "2024-10-13T17:13:53.043344",
     "exception": false,
     "start_time": "2024-10-13T17:13:52.483360",
     "status": "completed"
    },
    "tags": []
   },
   "outputs": [],
   "source": [
    "url = \"https://forecast.weather.gov/MapClick.php?lat=42.9371&lon=-75.6107\"\n",
    "page = requests.get(url)\n",
    "soup = BeautifulSoup(page.content, 'lxml')\n"
   ]
  },
  {
   "cell_type": "markdown",
   "id": "8e0dbc46",
   "metadata": {
    "papermill": {
     "duration": 0.007895,
     "end_time": "2024-10-13T17:13:53.059197",
     "exception": false,
     "start_time": "2024-10-13T17:13:53.051302",
     "status": "completed"
    },
    "tags": []
   },
   "source": [
    "<hr>"
   ]
  },
  {
   "cell_type": "markdown",
   "id": "11889583",
   "metadata": {
    "papermill": {
     "duration": 0.005637,
     "end_time": "2024-10-13T17:13:53.073858",
     "exception": false,
     "start_time": "2024-10-13T17:13:53.068221",
     "status": "completed"
    },
    "tags": []
   },
   "source": [
    "**Extracting current conditions!**"
   ]
  },
  {
   "cell_type": "code",
   "execution_count": 3,
   "id": "8e883eb6",
   "metadata": {
    "execution": {
     "iopub.execute_input": "2024-10-13T17:13:53.087239Z",
     "iopub.status.busy": "2024-10-13T17:13:53.086645Z",
     "iopub.status.idle": "2024-10-13T17:13:53.136187Z",
     "shell.execute_reply": "2024-10-13T17:13:53.134950Z"
    },
    "papermill": {
     "duration": 0.059913,
     "end_time": "2024-10-13T17:13:53.139442",
     "exception": false,
     "start_time": "2024-10-13T17:13:53.079529",
     "status": "completed"
    },
    "tags": []
   },
   "outputs": [
    {
     "data": {
      "text/html": [
       "<div>\n",
       "<style scoped>\n",
       "    .dataframe tbody tr th:only-of-type {\n",
       "        vertical-align: middle;\n",
       "    }\n",
       "\n",
       "    .dataframe tbody tr th {\n",
       "        vertical-align: top;\n",
       "    }\n",
       "\n",
       "    .dataframe thead th {\n",
       "        text-align: right;\n",
       "    }\n",
       "</style>\n",
       "<table border=\"1\" class=\"dataframe\">\n",
       "  <thead>\n",
       "    <tr style=\"text-align: right;\">\n",
       "      <th></th>\n",
       "      <th></th>\n",
       "    </tr>\n",
       "  </thead>\n",
       "  <tbody>\n",
       "    <tr>\n",
       "      <th>Weather</th>\n",
       "      <td>Light Rain</td>\n",
       "    </tr>\n",
       "    <tr>\n",
       "      <th>Temparture °F</th>\n",
       "      <td>43°F</td>\n",
       "    </tr>\n",
       "    <tr>\n",
       "      <th>Temparture °C</th>\n",
       "      <td>6°C</td>\n",
       "    </tr>\n",
       "  </tbody>\n",
       "</table>\n",
       "</div>"
      ],
      "text/plain": [
       "                         \n",
       "Weather        Light Rain\n",
       "Temparture °F        43°F\n",
       "Temparture °C         6°C"
      ]
     },
     "execution_count": 3,
     "metadata": {},
     "output_type": "execute_result"
    }
   ],
   "source": [
    "curr_con = soup.find(class_= \"myforecast-current\").get_text().strip()\n",
    "temp_f = soup.find(class_= \"myforecast-current-lrg\").get_text().strip()\n",
    "temp_c = soup.find(class_= \"myforecast-current-sm\").get_text().strip()\n",
    "\n",
    "df_tod =pd.DataFrame([curr_con,temp_f,temp_c],\n",
    "                     index = ['Weather', 'Temparture °F', 'Temparture °C'])\n",
    "df_tod.columns = ['']\n",
    "df_tod"
   ]
  },
  {
   "cell_type": "code",
   "execution_count": 4,
   "id": "d008da73",
   "metadata": {
    "execution": {
     "iopub.execute_input": "2024-10-13T17:13:53.156580Z",
     "iopub.status.busy": "2024-10-13T17:13:53.155993Z",
     "iopub.status.idle": "2024-10-13T17:13:53.179827Z",
     "shell.execute_reply": "2024-10-13T17:13:53.178375Z"
    },
    "papermill": {
     "duration": 0.034294,
     "end_time": "2024-10-13T17:13:53.182625",
     "exception": false,
     "start_time": "2024-10-13T17:13:53.148331",
     "status": "completed"
    },
    "tags": []
   },
   "outputs": [
    {
     "data": {
      "text/html": [
       "<div>\n",
       "<style scoped>\n",
       "    .dataframe tbody tr th:only-of-type {\n",
       "        vertical-align: middle;\n",
       "    }\n",
       "\n",
       "    .dataframe tbody tr th {\n",
       "        vertical-align: top;\n",
       "    }\n",
       "\n",
       "    .dataframe thead th {\n",
       "        text-align: right;\n",
       "    }\n",
       "</style>\n",
       "<table border=\"1\" class=\"dataframe\">\n",
       "  <thead>\n",
       "    <tr style=\"text-align: right;\">\n",
       "      <th></th>\n",
       "      <th></th>\n",
       "    </tr>\n",
       "  </thead>\n",
       "  <tbody>\n",
       "    <tr>\n",
       "      <th>Humidity</th>\n",
       "      <td>93%</td>\n",
       "    </tr>\n",
       "    <tr>\n",
       "      <th>Wind Speed</th>\n",
       "      <td>Calm</td>\n",
       "    </tr>\n",
       "    <tr>\n",
       "      <th>Barometer</th>\n",
       "      <td>29.82 in</td>\n",
       "    </tr>\n",
       "    <tr>\n",
       "      <th>Dewpoint</th>\n",
       "      <td>41°F (5°C)</td>\n",
       "    </tr>\n",
       "    <tr>\n",
       "      <th>Visibility</th>\n",
       "      <td>5.00 mi</td>\n",
       "    </tr>\n",
       "    <tr>\n",
       "      <th>Last update</th>\n",
       "      <td>13 Oct 12:55 pm EDT</td>\n",
       "    </tr>\n",
       "  </tbody>\n",
       "</table>\n",
       "</div>"
      ],
      "text/plain": [
       "                                \n",
       "Humidity                     93%\n",
       "Wind Speed                  Calm\n",
       "Barometer               29.82 in\n",
       "Dewpoint              41°F (5°C)\n",
       "Visibility               5.00 mi\n",
       "Last update  13 Oct 12:55 pm EDT"
      ]
     },
     "execution_count": 4,
     "metadata": {},
     "output_type": "execute_result"
    }
   ],
   "source": [
    "curr_con_table = soup.find(id=\"current_conditions_detail\").find_all('td')\n",
    "curr_dict = {}\n",
    "for i in range(0,len(curr_con_table),2):\n",
    "    curr_dict[curr_con_table[i].get_text().strip()] = \\\n",
    "    curr_con_table[i+1].get_text().strip()\n",
    "df_con = pd.DataFrame(curr_dict, index = [''])\n",
    "df_con.T"
   ]
  },
  {
   "cell_type": "markdown",
   "id": "2891d862",
   "metadata": {
    "papermill": {
     "duration": 0.006767,
     "end_time": "2024-10-13T17:13:53.195850",
     "exception": false,
     "start_time": "2024-10-13T17:13:53.189083",
     "status": "completed"
    },
    "tags": []
   },
   "source": [
    "<hr>"
   ]
  },
  {
   "cell_type": "markdown",
   "id": "4f248c43",
   "metadata": {
    "papermill": {
     "duration": 0.006979,
     "end_time": "2024-10-13T17:13:53.209540",
     "exception": false,
     "start_time": "2024-10-13T17:13:53.202561",
     "status": "completed"
    },
    "tags": []
   },
   "source": [
    "**Extracting extended forecast for city!**"
   ]
  },
  {
   "cell_type": "code",
   "execution_count": 5,
   "id": "534f112a",
   "metadata": {
    "execution": {
     "iopub.execute_input": "2024-10-13T17:13:53.224745Z",
     "iopub.status.busy": "2024-10-13T17:13:53.223521Z",
     "iopub.status.idle": "2024-10-13T17:13:53.256432Z",
     "shell.execute_reply": "2024-10-13T17:13:53.255237Z"
    },
    "papermill": {
     "duration": 0.043755,
     "end_time": "2024-10-13T17:13:53.259567",
     "exception": false,
     "start_time": "2024-10-13T17:13:53.215812",
     "status": "completed"
    },
    "tags": []
   },
   "outputs": [
    {
     "data": {
      "text/html": [
       "<div>\n",
       "<style scoped>\n",
       "    .dataframe tbody tr th:only-of-type {\n",
       "        vertical-align: middle;\n",
       "    }\n",
       "\n",
       "    .dataframe tbody tr th {\n",
       "        vertical-align: top;\n",
       "    }\n",
       "\n",
       "    .dataframe thead th {\n",
       "        text-align: right;\n",
       "    }\n",
       "</style>\n",
       "<table border=\"1\" class=\"dataframe\">\n",
       "  <thead>\n",
       "    <tr style=\"text-align: right;\">\n",
       "      <th></th>\n",
       "      <th>Temperature</th>\n",
       "      <th>Description</th>\n",
       "    </tr>\n",
       "    <tr>\n",
       "      <th>Period</th>\n",
       "      <th></th>\n",
       "      <th></th>\n",
       "    </tr>\n",
       "  </thead>\n",
       "  <tbody>\n",
       "    <tr>\n",
       "      <th>This Afternoon</th>\n",
       "      <td>High: 46 °F</td>\n",
       "      <td>Showers</td>\n",
       "    </tr>\n",
       "    <tr>\n",
       "      <th>Tonight</th>\n",
       "      <td>Low: 39 °F</td>\n",
       "      <td>Showers thenChanceShowers</td>\n",
       "    </tr>\n",
       "    <tr>\n",
       "      <th>Columbus Day</th>\n",
       "      <td>High: 44 °F</td>\n",
       "      <td>ShowersLikely</td>\n",
       "    </tr>\n",
       "    <tr>\n",
       "      <th>Monday Night</th>\n",
       "      <td>Low: 34 °F</td>\n",
       "      <td>ShowersLikely thenRain/SnowLikely</td>\n",
       "    </tr>\n",
       "    <tr>\n",
       "      <th>Tuesday</th>\n",
       "      <td>High: 45 °F</td>\n",
       "      <td>ChanceRain/Snowthen ShowersLikely</td>\n",
       "    </tr>\n",
       "    <tr>\n",
       "      <th>Tuesday Night</th>\n",
       "      <td>Low: 34 °F</td>\n",
       "      <td>Showers</td>\n",
       "    </tr>\n",
       "    <tr>\n",
       "      <th>Wednesday</th>\n",
       "      <td>High: 44 °F</td>\n",
       "      <td>ShowersLikely</td>\n",
       "    </tr>\n",
       "    <tr>\n",
       "      <th>Wednesday Night</th>\n",
       "      <td>Low: 31 °F</td>\n",
       "      <td>ChanceShowers thenPartly Cloudy</td>\n",
       "    </tr>\n",
       "    <tr>\n",
       "      <th>Thursday</th>\n",
       "      <td>High: 52 °F</td>\n",
       "      <td>Mostly Sunny</td>\n",
       "    </tr>\n",
       "  </tbody>\n",
       "</table>\n",
       "</div>"
      ],
      "text/plain": [
       "                 Temperature                        Description\n",
       "Period                                                         \n",
       "This Afternoon   High: 46 °F                            Showers\n",
       "Tonight           Low: 39 °F          Showers thenChanceShowers\n",
       "Columbus Day     High: 44 °F                      ShowersLikely\n",
       "Monday Night      Low: 34 °F  ShowersLikely thenRain/SnowLikely\n",
       "Tuesday          High: 45 °F  ChanceRain/Snowthen ShowersLikely\n",
       "Tuesday Night     Low: 34 °F                            Showers\n",
       "Wednesday        High: 44 °F                      ShowersLikely\n",
       "Wednesday Night   Low: 31 °F    ChanceShowers thenPartly Cloudy\n",
       "Thursday         High: 52 °F                       Mostly Sunny"
      ]
     },
     "execution_count": 5,
     "metadata": {},
     "output_type": "execute_result"
    }
   ],
   "source": [
    "curr_ex = [(i.find(class_ = 'period-name').get_text().strip(),\n",
    "           i.find(class_ = 'temp').get_text().strip(),\n",
    "           i.find(class_ = 'short-desc').get_text().strip())\n",
    "           for i in soup.find_all(class_=\"tombstone-container\")]\n",
    "arr_curr_ex = np.array(curr_ex)\n",
    "df_curr_ex = pd.DataFrame(arr_curr_ex)\n",
    "df_curr_ex.columns = ['Period','Temperature','Description']\n",
    "df_curr_ex.set_index('Period')"
   ]
  },
  {
   "cell_type": "markdown",
   "id": "c0fbed47",
   "metadata": {
    "papermill": {
     "duration": 0.007596,
     "end_time": "2024-10-13T17:13:53.276295",
     "exception": false,
     "start_time": "2024-10-13T17:13:53.268699",
     "status": "completed"
    },
    "tags": []
   },
   "source": [
    "<hr>"
   ]
  },
  {
   "cell_type": "markdown",
   "id": "a6e88e95",
   "metadata": {
    "papermill": {
     "duration": 0.007179,
     "end_time": "2024-10-13T17:13:53.290648",
     "exception": false,
     "start_time": "2024-10-13T17:13:53.283469",
     "status": "completed"
    },
    "tags": []
   },
   "source": [
    "**Extracting detailed forecast!**"
   ]
  },
  {
   "cell_type": "code",
   "execution_count": 6,
   "id": "e538bbd2",
   "metadata": {
    "execution": {
     "iopub.execute_input": "2024-10-13T17:13:53.306363Z",
     "iopub.status.busy": "2024-10-13T17:13:53.305813Z",
     "iopub.status.idle": "2024-10-13T17:13:53.337092Z",
     "shell.execute_reply": "2024-10-13T17:13:53.335939Z"
    },
    "papermill": {
     "duration": 0.043938,
     "end_time": "2024-10-13T17:13:53.341094",
     "exception": false,
     "start_time": "2024-10-13T17:13:53.297156",
     "status": "completed"
    },
    "tags": []
   },
   "outputs": [
    {
     "data": {
      "text/html": [
       "<div>\n",
       "<style scoped>\n",
       "    .dataframe tbody tr th:only-of-type {\n",
       "        vertical-align: middle;\n",
       "    }\n",
       "\n",
       "    .dataframe tbody tr th {\n",
       "        vertical-align: top;\n",
       "    }\n",
       "\n",
       "    .dataframe thead th {\n",
       "        text-align: right;\n",
       "    }\n",
       "</style>\n",
       "<table border=\"1\" class=\"dataframe\">\n",
       "  <thead>\n",
       "    <tr style=\"text-align: right;\">\n",
       "      <th></th>\n",
       "      <th></th>\n",
       "    </tr>\n",
       "    <tr>\n",
       "      <th>Period</th>\n",
       "      <th></th>\n",
       "    </tr>\n",
       "  </thead>\n",
       "  <tbody>\n",
       "    <tr>\n",
       "      <th>This Afternoon</th>\n",
       "      <td>Showers.  High near 46. East wind around 6 mph...</td>\n",
       "    </tr>\n",
       "    <tr>\n",
       "      <th>Tonight</th>\n",
       "      <td>Showers, mainly before 11pm.  Low around 39. N...</td>\n",
       "    </tr>\n",
       "    <tr>\n",
       "      <th>Columbus Day</th>\n",
       "      <td>Showers likely, mainly before 10am.  Mostly cl...</td>\n",
       "    </tr>\n",
       "    <tr>\n",
       "      <th>Monday Night</th>\n",
       "      <td>Rain showers likely before 5am, then a chance ...</td>\n",
       "    </tr>\n",
       "    <tr>\n",
       "      <th>Tuesday</th>\n",
       "      <td>A chance of rain and snow showers before 8am, ...</td>\n",
       "    </tr>\n",
       "    <tr>\n",
       "      <th>Tuesday Night</th>\n",
       "      <td>Showers.  Low around 34. Chance of precipitati...</td>\n",
       "    </tr>\n",
       "    <tr>\n",
       "      <th>Wednesday</th>\n",
       "      <td>Showers likely, mainly before 2pm.  Mostly clo...</td>\n",
       "    </tr>\n",
       "    <tr>\n",
       "      <th>Wednesday Night</th>\n",
       "      <td>A chance of showers before 8pm.  Mostly cloudy...</td>\n",
       "    </tr>\n",
       "    <tr>\n",
       "      <th>Thursday</th>\n",
       "      <td>Mostly sunny, with a high near 52.</td>\n",
       "    </tr>\n",
       "    <tr>\n",
       "      <th>Thursday Night</th>\n",
       "      <td>Clear, with a low around 33.</td>\n",
       "    </tr>\n",
       "    <tr>\n",
       "      <th>Friday</th>\n",
       "      <td>Sunny, with a high near 61.</td>\n",
       "    </tr>\n",
       "    <tr>\n",
       "      <th>Friday Night</th>\n",
       "      <td>Clear, with a low around 37.</td>\n",
       "    </tr>\n",
       "    <tr>\n",
       "      <th>Saturday</th>\n",
       "      <td>Sunny, with a high near 64.</td>\n",
       "    </tr>\n",
       "  </tbody>\n",
       "</table>\n",
       "</div>"
      ],
      "text/plain": [
       "                                                                  \n",
       "Period                                                            \n",
       "This Afternoon   Showers.  High near 46. East wind around 6 mph...\n",
       "Tonight          Showers, mainly before 11pm.  Low around 39. N...\n",
       "Columbus Day     Showers likely, mainly before 10am.  Mostly cl...\n",
       "Monday Night     Rain showers likely before 5am, then a chance ...\n",
       "Tuesday          A chance of rain and snow showers before 8am, ...\n",
       "Tuesday Night    Showers.  Low around 34. Chance of precipitati...\n",
       "Wednesday        Showers likely, mainly before 2pm.  Mostly clo...\n",
       "Wednesday Night  A chance of showers before 8pm.  Mostly cloudy...\n",
       "Thursday                        Mostly sunny, with a high near 52.\n",
       "Thursday Night                        Clear, with a low around 33.\n",
       "Friday                                 Sunny, with a high near 61.\n",
       "Friday Night                          Clear, with a low around 37.\n",
       "Saturday                               Sunny, with a high near 64."
      ]
     },
     "execution_count": 6,
     "metadata": {},
     "output_type": "execute_result"
    }
   ],
   "source": [
    "det_for = [(i.find(class_ = 'forecast-label').get_text().strip(),\n",
    "           i.find(class_ = 'forecast-text').get_text().strip())\n",
    "           for i in soup.find_all(class_=\"row-forecast\")]\n",
    "df_for = pd.DataFrame(det_for)\n",
    "df_for.columns = ['Period', '']\n",
    "df_for.set_index('Period')"
   ]
  },
  {
   "cell_type": "markdown",
   "id": "c12bda73",
   "metadata": {
    "papermill": {
     "duration": 0.006493,
     "end_time": "2024-10-13T17:13:53.355324",
     "exception": false,
     "start_time": "2024-10-13T17:13:53.348831",
     "status": "completed"
    },
    "tags": []
   },
   "source": [
    "**==========================================================**"
   ]
  }
 ],
 "metadata": {
  "kaggle": {
   "accelerator": "none",
   "dataSources": [],
   "dockerImageVersionId": 30786,
   "isGpuEnabled": false,
   "isInternetEnabled": true,
   "language": "python",
   "sourceType": "notebook"
  },
  "kernelspec": {
   "display_name": "Python 3",
   "language": "python",
   "name": "python3"
  },
  "language_info": {
   "codemirror_mode": {
    "name": "ipython",
    "version": 3
   },
   "file_extension": ".py",
   "mimetype": "text/x-python",
   "name": "python",
   "nbconvert_exporter": "python",
   "pygments_lexer": "ipython3",
   "version": "3.10.14"
  },
  "papermill": {
   "default_parameters": {},
   "duration": 6.104204,
   "end_time": "2024-10-13T17:13:53.984210",
   "environment_variables": {},
   "exception": null,
   "input_path": "__notebook__.ipynb",
   "output_path": "__notebook__.ipynb",
   "parameters": {},
   "start_time": "2024-10-13T17:13:47.880006",
   "version": "2.6.0"
  }
 },
 "nbformat": 4,
 "nbformat_minor": 5
}
