{
 "cells": [
  {
   "cell_type": "markdown",
   "id": "291124e7-e7fd-438b-b12e-279d4cb48740",
   "metadata": {},
   "source": [
    "**<h1 style=\"color : red;\">Who are you? and why are you here?!</h1>**\n",
    "\n",
    "👨🏻‍💻🔫🐙\n",
    "-- Authored by\n",
    "<details>\n",
    "<summary id=\"name\">\n",
    "    <a href=\"#name\">Nihal Thakur</a></summary>\n",
    "    <ul>\n",
    "        <li><a href=\"https://github.com/naxl\">Github</a></li>\n",
    "        <li><a href=\"https://www.kaggle.com/nihxlt\">Kaggle</a></li>\n",
    "    </ul>\n",
    "</details>"
   ]
  },
  {
   "cell_type": "markdown",
   "id": "f1207b98-0105-4e89-a5d5-d49ed27e1e81",
   "metadata": {},
   "source": [
    "In an unexpected turn of events, you've been enlisted as the chief **\"Weather Whisperer\"** for the elite **Umbrella Society Summit** set to take place in the fickle climate of **Binghamton, NY**. Your role? To scrape not just any data, but the lifeblood of their entire event — real-time weather insights from this page. The summit’s success hinges on your ability to extract current conditions (humidity, wind speed, temperature — everything down to the UV index), the ever-changing **7-day forecast**, and the detailed table of meteorological minutiae like dew points, visibility, and precipitation probabilities. Yes, even the chance of a rogue sunbeam must be documented!\n",
    "\n",
    "Your weather-hungry clientele demands perfection. You will scrape the **current conditions** section, where the fate of their outdoor meetings lies. Then, delve into the **forecast table** that dictates whether sunglasses or umbrellas will dominate the day. Lastly, gather all the juicy **details from the in-depth weather table** (hourly temperatures, wind patterns, and those ever-so-important rain chances). Their tea parties and pontifications about cloud formations rest on your data scraping prowess. So, will you rise to the challenge and save the summit, or will their umbrellas be left **high** and **dry**?"
   ]
  },
  {
   "cell_type": "markdown",
   "id": "3f93f962-41e7-4ff0-a22a-35b34c1a3d12",
   "metadata": {},
   "source": [
    "**<h3 style=\"color : blue;\">Let's import all the essentials!🌸🐼</h1>**"
   ]
  },
  {
   "cell_type": "code",
   "execution_count": 1,
   "id": "145d2857-9b93-4abe-8c01-719b0a471665",
   "metadata": {},
   "outputs": [],
   "source": [
    "from bs4 import BeautifulSoup\n",
    "import requests\n",
    "import numpy as np\n",
    "import pandas as pd"
   ]
  },
  {
   "cell_type": "markdown",
   "id": "1e41b1a2-91c2-483e-9a4e-770abb757b5a",
   "metadata": {},
   "source": [
    "**<h3 style=\"color : blue;\">Fetching the webpage, creating Soup and extracting tables method-wise!✅</h1>**"
   ]
  },
  {
   "cell_type": "code",
   "execution_count": 2,
   "id": "f6ec6206-bfd1-4090-866c-e18d305d3316",
   "metadata": {},
   "outputs": [],
   "source": [
    "class City:\n",
    "    def __init__(self, url):\n",
    "        self.__url = url\n",
    "        self.__soup = BeautifulSoup(requests.get(self.__url).content, 'lxml')\n",
    "\n",
    "    def curr_con_1(self):\n",
    "        self.__curr_con = self.__soup.find(class_= \"myforecast-current\").get_text().strip()\n",
    "        self.__temp_f = self.__soup.find(class_= \"myforecast-current-lrg\").get_text().strip()\n",
    "        self.__temp_c = self.__soup.find(class_= \"myforecast-current-sm\").get_text().strip()\n",
    "        self.__df_tod =pd.DataFrame([self.__curr_con,self.__temp_f,self.__temp_c],\n",
    "                             index = ['Weather', 'Temparture °F', 'Temparture °C'])\n",
    "        self.__df_tod.columns = ['']\n",
    "        return self.__df_tod\n",
    "\n",
    "    def curr_con_2(self):\n",
    "        self.__curr_con_table = self.__soup.find(id=\"current_conditions_detail\").find_all('td')\n",
    "        self.__curr_dict = {}\n",
    "        for i in range(0,len(self.__curr_con_table),2):\n",
    "            self.__curr_dict[self.__curr_con_table[i].get_text().strip()] = \\\n",
    "            self.__curr_con_table[i+1].get_text().strip()\n",
    "        self.__df_con = pd.DataFrame(self.__curr_dict, index = [''])\n",
    "        return self.__df_con.T\n",
    "\n",
    "    def ext_for(self):\n",
    "        self.__curr_ex = [(i.find(class_ = 'period-name').get_text().strip(),\n",
    "                   i.find(class_ = 'temp').get_text().strip(),\n",
    "                   i.find(class_ = 'short-desc').get_text().strip())\n",
    "                   for i in self.__soup.find_all(class_=\"tombstone-container\")]\n",
    "        self.__arr_curr_ex = np.array(self.__curr_ex)\n",
    "        self.__df_curr_ex = pd.DataFrame(self.__arr_curr_ex)\n",
    "        self.__df_curr_ex.columns = ['Period','Temperature','Description']\n",
    "        return self.__df_curr_ex.set_index('Period')\n",
    "\n",
    "    def det_for(self):\n",
    "        self.__det_for = [(i.find(class_ = 'forecast-label').get_text().strip(),\n",
    "           i.find(class_ = 'forecast-text').get_text().strip())\n",
    "           for i in self.__soup.find_all(class_=\"row-forecast\")]\n",
    "        self.__df_for = pd.DataFrame(self.__det_for)\n",
    "        self.__df_for.columns = ['Period', '']\n",
    "        return self.__df_for.set_index('Period')"
   ]
  },
  {
   "cell_type": "markdown",
   "id": "dd091ba4-4825-4ef4-b0d6-bae761a2fada",
   "metadata": {},
   "source": [
    "<hr>"
   ]
  },
  {
   "cell_type": "markdown",
   "id": "a1ff2602-59e2-4765-8a92-5b4d84d5724d",
   "metadata": {},
   "source": [
    "**Creating City Object**"
   ]
  },
  {
   "cell_type": "code",
   "execution_count": 3,
   "id": "712f9edc-2e83-46a4-be4d-efc630e8fbe8",
   "metadata": {},
   "outputs": [],
   "source": [
    "bing_ny = City('https://forecast.weather.gov/MapClick.php?lat=42.9371&lon=-75.6107')"
   ]
  },
  {
   "cell_type": "markdown",
   "id": "82ba74a2-496b-40b8-a7e9-399bc8592440",
   "metadata": {},
   "source": [
    "<hr>"
   ]
  },
  {
   "cell_type": "markdown",
   "id": "5b27a245-cf4b-4e03-b165-1c7301581a92",
   "metadata": {},
   "source": [
    "**Extracting current conditions!**"
   ]
  },
  {
   "cell_type": "code",
   "execution_count": 4,
   "id": "41e5a6e7-63a9-4dbb-92f9-687e6d6fafd5",
   "metadata": {},
   "outputs": [
    {
     "data": {
      "text/html": [
       "<div>\n",
       "<style scoped>\n",
       "    .dataframe tbody tr th:only-of-type {\n",
       "        vertical-align: middle;\n",
       "    }\n",
       "\n",
       "    .dataframe tbody tr th {\n",
       "        vertical-align: top;\n",
       "    }\n",
       "\n",
       "    .dataframe thead th {\n",
       "        text-align: right;\n",
       "    }\n",
       "</style>\n",
       "<table border=\"1\" class=\"dataframe\">\n",
       "  <thead>\n",
       "    <tr style=\"text-align: right;\">\n",
       "      <th></th>\n",
       "      <th></th>\n",
       "    </tr>\n",
       "  </thead>\n",
       "  <tbody>\n",
       "    <tr>\n",
       "      <th>Weather</th>\n",
       "      <td>Overcast</td>\n",
       "    </tr>\n",
       "    <tr>\n",
       "      <th>Temparture °F</th>\n",
       "      <td>27°F</td>\n",
       "    </tr>\n",
       "    <tr>\n",
       "      <th>Temparture °C</th>\n",
       "      <td>-3°C</td>\n",
       "    </tr>\n",
       "  </tbody>\n",
       "</table>\n",
       "</div>"
      ],
      "text/plain": [
       "                       \n",
       "Weather        Overcast\n",
       "Temparture °F      27°F\n",
       "Temparture °C      -3°C"
      ]
     },
     "execution_count": 4,
     "metadata": {},
     "output_type": "execute_result"
    }
   ],
   "source": [
    "bing_ny.curr_con_1()"
   ]
  },
  {
   "cell_type": "code",
   "execution_count": 5,
   "id": "b24e2f8f-ad45-4439-bd81-10735dcaf5b2",
   "metadata": {},
   "outputs": [
    {
     "data": {
      "text/html": [
       "<div>\n",
       "<style scoped>\n",
       "    .dataframe tbody tr th:only-of-type {\n",
       "        vertical-align: middle;\n",
       "    }\n",
       "\n",
       "    .dataframe tbody tr th {\n",
       "        vertical-align: top;\n",
       "    }\n",
       "\n",
       "    .dataframe thead th {\n",
       "        text-align: right;\n",
       "    }\n",
       "</style>\n",
       "<table border=\"1\" class=\"dataframe\">\n",
       "  <thead>\n",
       "    <tr style=\"text-align: right;\">\n",
       "      <th></th>\n",
       "      <th></th>\n",
       "    </tr>\n",
       "  </thead>\n",
       "  <tbody>\n",
       "    <tr>\n",
       "      <th>Humidity</th>\n",
       "      <td>80%</td>\n",
       "    </tr>\n",
       "    <tr>\n",
       "      <th>Wind Speed</th>\n",
       "      <td>Calm</td>\n",
       "    </tr>\n",
       "    <tr>\n",
       "      <th>Barometer</th>\n",
       "      <td>29.88 in</td>\n",
       "    </tr>\n",
       "    <tr>\n",
       "      <th>Dewpoint</th>\n",
       "      <td>21°F (-6°C)</td>\n",
       "    </tr>\n",
       "    <tr>\n",
       "      <th>Visibility</th>\n",
       "      <td>10.00 mi</td>\n",
       "    </tr>\n",
       "    <tr>\n",
       "      <th>Last update</th>\n",
       "      <td>12 Jan 4:35 am EST</td>\n",
       "    </tr>\n",
       "  </tbody>\n",
       "</table>\n",
       "</div>"
      ],
      "text/plain": [
       "                               \n",
       "Humidity                    80%\n",
       "Wind Speed                 Calm\n",
       "Barometer              29.88 in\n",
       "Dewpoint            21°F (-6°C)\n",
       "Visibility             10.00 mi\n",
       "Last update  12 Jan 4:35 am EST"
      ]
     },
     "execution_count": 5,
     "metadata": {},
     "output_type": "execute_result"
    }
   ],
   "source": [
    "bing_ny.curr_con_2()"
   ]
  },
  {
   "cell_type": "markdown",
   "id": "5ba5c774-19ea-479a-8627-80bc396d6ac4",
   "metadata": {},
   "source": [
    "<hr>"
   ]
  },
  {
   "cell_type": "markdown",
   "id": "9609737f-5459-4832-890a-892c74b1bd3a",
   "metadata": {},
   "source": [
    "**Extracting extended forecast for city!**"
   ]
  },
  {
   "cell_type": "code",
   "execution_count": 6,
   "id": "cd212150-854d-4de9-9a4a-35cd28ed29ed",
   "metadata": {},
   "outputs": [
    {
     "data": {
      "text/html": [
       "<div>\n",
       "<style scoped>\n",
       "    .dataframe tbody tr th:only-of-type {\n",
       "        vertical-align: middle;\n",
       "    }\n",
       "\n",
       "    .dataframe tbody tr th {\n",
       "        vertical-align: top;\n",
       "    }\n",
       "\n",
       "    .dataframe thead th {\n",
       "        text-align: right;\n",
       "    }\n",
       "</style>\n",
       "<table border=\"1\" class=\"dataframe\">\n",
       "  <thead>\n",
       "    <tr style=\"text-align: right;\">\n",
       "      <th></th>\n",
       "      <th>Temperature</th>\n",
       "      <th>Description</th>\n",
       "    </tr>\n",
       "    <tr>\n",
       "      <th>Period</th>\n",
       "      <th></th>\n",
       "      <th></th>\n",
       "    </tr>\n",
       "  </thead>\n",
       "  <tbody>\n",
       "    <tr>\n",
       "      <th>Overnight</th>\n",
       "      <td>Low: 22 °F</td>\n",
       "      <td>Chance SnowShowers</td>\n",
       "    </tr>\n",
       "    <tr>\n",
       "      <th>Sunday</th>\n",
       "      <td>High: 32 °F</td>\n",
       "      <td>Chance SnowShowers</td>\n",
       "    </tr>\n",
       "    <tr>\n",
       "      <th>Sunday Night</th>\n",
       "      <td>Low: 22 °F</td>\n",
       "      <td>Mostly Cloudy</td>\n",
       "    </tr>\n",
       "    <tr>\n",
       "      <th>Monday</th>\n",
       "      <td>High: 35 °F</td>\n",
       "      <td>Chance SnowShowers</td>\n",
       "    </tr>\n",
       "    <tr>\n",
       "      <th>Monday Night</th>\n",
       "      <td>Low: 14 °F</td>\n",
       "      <td>Chance SnowShowers</td>\n",
       "    </tr>\n",
       "    <tr>\n",
       "      <th>Tuesday</th>\n",
       "      <td>High: 21 °F</td>\n",
       "      <td>Chance SnowShowers</td>\n",
       "    </tr>\n",
       "    <tr>\n",
       "      <th>Tuesday Night</th>\n",
       "      <td>Low: 12 °F</td>\n",
       "      <td>Chance SnowShowers</td>\n",
       "    </tr>\n",
       "    <tr>\n",
       "      <th>Wednesday</th>\n",
       "      <td>High: 21 °F</td>\n",
       "      <td>Snow ShowersLikely</td>\n",
       "    </tr>\n",
       "    <tr>\n",
       "      <th>Wednesday Night</th>\n",
       "      <td>Low: 12 °F</td>\n",
       "      <td>Chance SnowShowers</td>\n",
       "    </tr>\n",
       "  </tbody>\n",
       "</table>\n",
       "</div>"
      ],
      "text/plain": [
       "                 Temperature         Description\n",
       "Period                                          \n",
       "Overnight         Low: 22 °F  Chance SnowShowers\n",
       "Sunday           High: 32 °F  Chance SnowShowers\n",
       "Sunday Night      Low: 22 °F       Mostly Cloudy\n",
       "Monday           High: 35 °F  Chance SnowShowers\n",
       "Monday Night      Low: 14 °F  Chance SnowShowers\n",
       "Tuesday          High: 21 °F  Chance SnowShowers\n",
       "Tuesday Night     Low: 12 °F  Chance SnowShowers\n",
       "Wednesday        High: 21 °F  Snow ShowersLikely\n",
       "Wednesday Night   Low: 12 °F  Chance SnowShowers"
      ]
     },
     "execution_count": 6,
     "metadata": {},
     "output_type": "execute_result"
    }
   ],
   "source": [
    "bing_ny.ext_for()"
   ]
  },
  {
   "cell_type": "markdown",
   "id": "1f5ffae4-6325-4c58-afd9-0485f9fb7469",
   "metadata": {},
   "source": [
    "<hr>"
   ]
  },
  {
   "cell_type": "markdown",
   "id": "09200b93-d99c-4d33-985c-c824e1872e85",
   "metadata": {},
   "source": [
    "**Extracting detailed forecast!**"
   ]
  },
  {
   "cell_type": "code",
   "execution_count": 7,
   "id": "1031b83c-053a-46f6-8732-969e53231b3e",
   "metadata": {},
   "outputs": [
    {
     "data": {
      "text/html": [
       "<div>\n",
       "<style scoped>\n",
       "    .dataframe tbody tr th:only-of-type {\n",
       "        vertical-align: middle;\n",
       "    }\n",
       "\n",
       "    .dataframe tbody tr th {\n",
       "        vertical-align: top;\n",
       "    }\n",
       "\n",
       "    .dataframe thead th {\n",
       "        text-align: right;\n",
       "    }\n",
       "</style>\n",
       "<table border=\"1\" class=\"dataframe\">\n",
       "  <thead>\n",
       "    <tr style=\"text-align: right;\">\n",
       "      <th></th>\n",
       "      <th></th>\n",
       "    </tr>\n",
       "    <tr>\n",
       "      <th>Period</th>\n",
       "      <th></th>\n",
       "    </tr>\n",
       "  </thead>\n",
       "  <tbody>\n",
       "    <tr>\n",
       "      <th>Overnight</th>\n",
       "      <td>A chance of snow showers.  Cloudy, with a low ...</td>\n",
       "    </tr>\n",
       "    <tr>\n",
       "      <th>Sunday</th>\n",
       "      <td>A chance of snow showers, mainly before 10am. ...</td>\n",
       "    </tr>\n",
       "    <tr>\n",
       "      <th>Sunday Night</th>\n",
       "      <td>Mostly cloudy, with a low around 22. Calm wind...</td>\n",
       "    </tr>\n",
       "    <tr>\n",
       "      <th>Monday</th>\n",
       "      <td>A chance of snow showers, mainly after 10am.  ...</td>\n",
       "    </tr>\n",
       "    <tr>\n",
       "      <th>Monday Night</th>\n",
       "      <td>A chance of snow showers, mainly before 1am.  ...</td>\n",
       "    </tr>\n",
       "    <tr>\n",
       "      <th>Tuesday</th>\n",
       "      <td>A chance of snow showers, mainly after 1pm.  P...</td>\n",
       "    </tr>\n",
       "    <tr>\n",
       "      <th>Tuesday Night</th>\n",
       "      <td>A chance of snow showers.  Mostly cloudy, with...</td>\n",
       "    </tr>\n",
       "    <tr>\n",
       "      <th>Wednesday</th>\n",
       "      <td>Snow showers likely, mainly before 1pm.  Mostl...</td>\n",
       "    </tr>\n",
       "    <tr>\n",
       "      <th>Wednesday Night</th>\n",
       "      <td>A chance of snow showers.  Mostly cloudy, with...</td>\n",
       "    </tr>\n",
       "    <tr>\n",
       "      <th>Thursday</th>\n",
       "      <td>A chance of snow showers.  Mostly cloudy, with...</td>\n",
       "    </tr>\n",
       "    <tr>\n",
       "      <th>Thursday Night</th>\n",
       "      <td>A chance of snow showers.  Mostly cloudy, with...</td>\n",
       "    </tr>\n",
       "    <tr>\n",
       "      <th>Friday</th>\n",
       "      <td>Partly sunny, with a high near 29.</td>\n",
       "    </tr>\n",
       "    <tr>\n",
       "      <th>Friday Night</th>\n",
       "      <td>Mostly cloudy, with a low around 19.</td>\n",
       "    </tr>\n",
       "    <tr>\n",
       "      <th>Saturday</th>\n",
       "      <td>Rain and snow showers likely.  Mostly cloudy, ...</td>\n",
       "    </tr>\n",
       "  </tbody>\n",
       "</table>\n",
       "</div>"
      ],
      "text/plain": [
       "                                                                  \n",
       "Period                                                            \n",
       "Overnight        A chance of snow showers.  Cloudy, with a low ...\n",
       "Sunday           A chance of snow showers, mainly before 10am. ...\n",
       "Sunday Night     Mostly cloudy, with a low around 22. Calm wind...\n",
       "Monday           A chance of snow showers, mainly after 10am.  ...\n",
       "Monday Night     A chance of snow showers, mainly before 1am.  ...\n",
       "Tuesday          A chance of snow showers, mainly after 1pm.  P...\n",
       "Tuesday Night    A chance of snow showers.  Mostly cloudy, with...\n",
       "Wednesday        Snow showers likely, mainly before 1pm.  Mostl...\n",
       "Wednesday Night  A chance of snow showers.  Mostly cloudy, with...\n",
       "Thursday         A chance of snow showers.  Mostly cloudy, with...\n",
       "Thursday Night   A chance of snow showers.  Mostly cloudy, with...\n",
       "Friday                          Partly sunny, with a high near 29.\n",
       "Friday Night                  Mostly cloudy, with a low around 19.\n",
       "Saturday         Rain and snow showers likely.  Mostly cloudy, ..."
      ]
     },
     "execution_count": 7,
     "metadata": {},
     "output_type": "execute_result"
    }
   ],
   "source": [
    "bing_ny.det_for()"
   ]
  },
  {
   "cell_type": "markdown",
   "id": "143ec21d-a598-4696-9b4a-574620fdc401",
   "metadata": {},
   "source": [
    "**==========================================================**"
   ]
  },
  {
   "cell_type": "code",
   "execution_count": null,
   "id": "be92057a-1b98-4424-a2db-a0b53dfcaf26",
   "metadata": {},
   "outputs": [],
   "source": []
  }
 ],
 "metadata": {
  "kernelspec": {
   "display_name": "Python 3 (ipykernel)",
   "language": "python",
   "name": "python3"
  },
  "language_info": {
   "codemirror_mode": {
    "name": "ipython",
    "version": 3
   },
   "file_extension": ".py",
   "mimetype": "text/x-python",
   "name": "python",
   "nbconvert_exporter": "python",
   "pygments_lexer": "ipython3",
   "version": "3.13.1"
  }
 },
 "nbformat": 4,
 "nbformat_minor": 5
}
